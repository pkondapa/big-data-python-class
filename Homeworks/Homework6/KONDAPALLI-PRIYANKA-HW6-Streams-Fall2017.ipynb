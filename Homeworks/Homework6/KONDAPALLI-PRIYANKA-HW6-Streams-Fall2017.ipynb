{
 "cells": [
  {
   "cell_type": "markdown",
   "metadata": {},
   "source": []
  },
  {
   "cell_type": "code",
   "execution_count": 1,
   "metadata": {},
   "outputs": [
    {
     "name": "stdout",
     "output_type": "stream",
     "text": [
      "Overwriting twython_streaming.py\n"
     ]
    }
   ],
   "source": [
    "%%writefile twython_streaming.py\n",
    "import twython\n",
    "from twython import TwythonStreamer\n",
    "\n",
    "OAUTH_TOKEN = \"925147250350854144-GnFORz7Z7E5EmsEyFvMEVJxocfzLDNj\"\n",
    "OAUTH_TOKEN_SECRET = \"PlCOVjUK0EpM9fQ9C4FiNFXI3vIGsICJDlQCiKKtVkYTT\"\n",
    "APP_KEY = \"cRPqloj4il7LVOyULvn3GLEKb\"\n",
    "APP_SECRET = \"0QHOZY5fdMwJGVLBf9HNjYKn0SbZyFaLJddY1SaHbi7ICO2Zyn\"\n",
    "\n",
    "class MyStreamer(TwythonStreamer):\n",
    "    def on_success(self, data):\n",
    "        if 'text' in data:\n",
    "            print data['text'].encode('utf-8')\n",
    "\n",
    "    def on_error(self, status_code, data):\n",
    "        print status_code\n",
    "\n",
    "        # Want to stop trying to get data because of the error?\n",
    "        # Uncomment the next line!\n",
    "        self.disconnect()\n",
    "\n",
    "if __name__ == \"__main__\":\n",
    "    stream = MyStreamer(APP_KEY, APP_SECRET,\n",
    "                    OAUTH_TOKEN, OAUTH_TOKEN_SECRET)\n",
    "    stream.statuses.filter(track=['iphone', 'pixel', 'samsung'])"
   ]
  },
  {
   "cell_type": "code",
   "execution_count": null,
   "metadata": {
    "collapsed": true
   },
   "outputs": [],
   "source": [
    "! python twython_streaming.py >> twython_twits_test.txt"
   ]
  },
  {
   "cell_type": "code",
   "execution_count": 11,
   "metadata": {},
   "outputs": [
    {
     "name": "stdout",
     "output_type": "stream",
     "text": [
      "showing info https://raw.githubusercontent.com/nltk/nltk_data/gh-pages/index.xml\n",
      "showing info https://raw.githubusercontent.com/nltk/nltk_data/gh-pages/index.xml\n"
     ]
    },
    {
     "data": {
      "text/plain": [
       "True"
      ]
     },
     "execution_count": 11,
     "metadata": {},
     "output_type": "execute_result"
    }
   ],
   "source": [
    "import nltk\n",
    "nltk.download()"
   ]
  },
  {
   "cell_type": "code",
   "execution_count": 30,
   "metadata": {},
   "outputs": [],
   "source": [
    "import nltk\n",
    "filename=open(\"twython_twits.txt\",\"r\")\n",
    "#type(raw) #str\n",
    "tokens = []\n",
    "#decoding and tokenizing\n",
    "for line in filename.readlines():\n",
    "    line=line.decode('utf-8').strip()\n",
    "    tokens+=nltk.sent_tokenize(line)"
   ]
  },
  {
   "cell_type": "code",
   "execution_count": 31,
   "metadata": {},
   "outputs": [],
   "source": [
    "import re\n",
    "#removing URL's\n",
    "for idx, tweet in enumerate(tokens):\n",
    "    tweet = re.sub(r'https:\\/\\/.*[\\r\\n]*', '', tweet)\n",
    "    tokens[idx] = tweet\n",
    "#print tokens"
   ]
  },
  {
   "cell_type": "code",
   "execution_count": 35,
   "metadata": {},
   "outputs": [
    {
     "data": {
      "text/plain": [
       "2020364"
      ]
     },
     "execution_count": 35,
     "metadata": {},
     "output_type": "execute_result"
    }
   ],
   "source": [
    "#number of tweets after cleaning\n",
    "len(tokens)"
   ]
  },
  {
   "cell_type": "code",
   "execution_count": null,
   "metadata": {
    "collapsed": true
   },
   "outputs": [],
   "source": []
  }
 ],
 "metadata": {
  "kernelspec": {
   "display_name": "Python 2",
   "language": "python",
   "name": "python2"
  },
  "language_info": {
   "codemirror_mode": {
    "name": "ipython",
    "version": 2
   },
   "file_extension": ".py",
   "mimetype": "text/x-python",
   "name": "python",
   "nbconvert_exporter": "python",
   "pygments_lexer": "ipython2",
   "version": "2.7.13"
  }
 },
 "nbformat": 4,
 "nbformat_minor": 2
}
