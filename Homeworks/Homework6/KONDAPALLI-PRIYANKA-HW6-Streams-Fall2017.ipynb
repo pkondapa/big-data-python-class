{
 "cells": [
  {
   "cell_type": "markdown",
   "metadata": {},
   "source": [
    "I have taken 2 days of data and created a Bloom filter. Using another day of data verified the number of matches using the Bloom filter and plotted graphs"
   ]
  },
  {
   "cell_type": "code",
   "execution_count": 1,
   "metadata": {},
   "outputs": [
    {
     "name": "stdout",
     "output_type": "stream",
     "text": [
      "Overwriting twython_streaming.py\n"
     ]
    }
   ],
   "source": [
    "%%writefile twython_streaming.py\n",
    "import twython\n",
    "from twython import TwythonStreamer\n",
    "\n",
    "OAUTH_TOKEN = \"925147250350854144-GnFORz7Z7E5EmsEyFvMEVJxocfzLDNj\"\n",
    "OAUTH_TOKEN_SECRET = \"PlCOVjUK0EpM9fQ9C4FiNFXI3vIGsICJDlQCiKKtVkYTT\"\n",
    "APP_KEY = \"cRPqloj4il7LVOyULvn3GLEKb\"\n",
    "APP_SECRET = \"0QHOZY5fdMwJGVLBf9HNjYKn0SbZyFaLJddY1SaHbi7ICO2Zyn\"\n",
    "\n",
    "class MyStreamer(TwythonStreamer):\n",
    "    def on_success(self, data):\n",
    "        if 'text' in data:\n",
    "            print data['text'].encode('utf-8')\n",
    "\n",
    "    def on_error(self, status_code, data):\n",
    "        print status_code\n",
    "\n",
    "        # Want to stop trying to get data because of the error?\n",
    "        # Uncomment the next line!\n",
    "        self.disconnect()\n",
    "\n",
    "if __name__ == \"__main__\":\n",
    "    stream = MyStreamer(APP_KEY, APP_SECRET,\n",
    "                    OAUTH_TOKEN, OAUTH_TOKEN_SECRET)\n",
    "    stream.statuses.filter(track=['iphone', 'pixel', 'samsung'])"
   ]
  },
  {
   "cell_type": "code",
   "execution_count": null,
   "metadata": {
    "collapsed": true
   },
   "outputs": [],
   "source": [
    "! python twython_streaming.py >> twython_twits_test.txt"
   ]
  },
  {
   "cell_type": "code",
   "execution_count": 11,
   "metadata": {},
   "outputs": [
    {
     "name": "stdout",
     "output_type": "stream",
     "text": [
      "showing info https://raw.githubusercontent.com/nltk/nltk_data/gh-pages/index.xml\n",
      "showing info https://raw.githubusercontent.com/nltk/nltk_data/gh-pages/index.xml\n"
     ]
    },
    {
     "data": {
      "text/plain": [
       "True"
      ]
     },
     "execution_count": 11,
     "metadata": {},
     "output_type": "execute_result"
    }
   ],
   "source": [
    "import nltk\n",
    "nltk.download()"
   ]
  },
  {
   "cell_type": "code",
   "execution_count": 2,
   "metadata": {
    "collapsed": true
   },
   "outputs": [],
   "source": [
    "import nltk\n",
    "filename=open(\"twython_twits.txt\",\"r\")\n",
    "#type(raw) #str\n",
    "tokens = []\n",
    "#decoding and tokenizing\n",
    "for line in filename.readlines():\n",
    "    line=line.decode('utf-8').strip()\n",
    "    tokens+=nltk.sent_tokenize(line)"
   ]
  },
  {
   "cell_type": "code",
   "execution_count": 3,
   "metadata": {},
   "outputs": [
    {
     "name": "stdout",
     "output_type": "stream",
     "text": [
      "Pretty Equalizer, I still love my Samsung Note 3: https://t.co/wGTelP0s6M via @YouTube\n",
      "iPhone X発売で「強気」のクックCEO、10～12月期は7％超増収へ https://t.co/jTTKXvoLnX https://t.co/GGEMxHGBlE\n",
      "Sandisk Ultra 64GB #Memory #Card in https://t.co/FN6m9iYhuD #news #digital #market #deals #sales #today #iphone… https://t.co/DfeCKyhqNA\n",
      "Me voy a llevar un iPhone X GRATIS a casa #iPhoneXfree,  https://t.co/WE4GhU5mqm\n",
      "¿Nos das un RT?\n",
      "#iphone #ipad #mac 30 nuevos bancos y entidades de crédito americanos ya son...… https://t.co/k2XhtXSuWb\n",
      "RT @MaxFicarro: Easily the best feature on the iPhone X is the Animoji.\n",
      "https://t.co/cKorZYYGS7\n",
      "Me voy a llevar un iPhone X GRATIS a casa #iPhoneXfree,  https://t.co/EpsPAWo4Es\n"
     ]
    }
   ],
   "source": [
    "for i in xrange(1, 10):\n",
    "    print tokens[i]"
   ]
  },
  {
   "cell_type": "code",
   "execution_count": 4,
   "metadata": {
    "collapsed": true
   },
   "outputs": [],
   "source": [
    "import re\n",
    "#removing URL's\n",
    "for idx, tweet in enumerate(tokens):\n",
    "    tweet = re.sub(r'https:\\/\\/.*[\\r\\n]*', '', tweet)\n",
    "    tokens[idx] = tweet\n",
    "#print tokens"
   ]
  },
  {
   "cell_type": "code",
   "execution_count": 5,
   "metadata": {},
   "outputs": [
    {
     "name": "stdout",
     "output_type": "stream",
     "text": [
      "Pretty Equalizer, I still love my Samsung Note 3: \n",
      "iPhone X発売で「強気」のクックCEO、10～12月期は7％超増収へ \n",
      "Sandisk Ultra 64GB #Memory #Card in \n",
      "Me voy a llevar un iPhone X GRATIS a casa #iPhoneXfree,  \n",
      "¿Nos das un RT?\n",
      "#iphone #ipad #mac 30 nuevos bancos y entidades de crédito americanos ya son...… \n",
      "RT @MaxFicarro: Easily the best feature on the iPhone X is the Animoji.\n",
      "\n",
      "Me voy a llevar un iPhone X GRATIS a casa #iPhoneXfree,  \n"
     ]
    }
   ],
   "source": [
    "for i in xrange(1, 10):\n",
    "    print tokens[i]"
   ]
  },
  {
   "cell_type": "code",
   "execution_count": 6,
   "metadata": {},
   "outputs": [
    {
     "data": {
      "text/plain": [
       "2018796"
      ]
     },
     "execution_count": 6,
     "metadata": {},
     "output_type": "execute_result"
    }
   ],
   "source": [
    "#number of tweets after cleaning\n",
    "len(tokens)\n",
    "#print tokens[1]"
   ]
  },
  {
   "cell_type": "code",
   "execution_count": 7,
   "metadata": {
    "collapsed": true
   },
   "outputs": [],
   "source": [
    "#removing stop words\n",
    "from nltk.corpus import stopwords\n",
    "from nltk.tokenize import word_tokenize\n",
    "\n",
    "stop_words = set(stopwords.words('english'))\n",
    "\n",
    "example_sent = \"This is a sample sentence, showing off the stop words filtration.\"\n",
    "for idx, cleaned_tweet in enumerate(tokens):\n",
    "    word_tokens = word_tokenize(cleaned_tweet)\n",
    "    filtered_tweet = [w for w in word_tokens if not w in stop_words]\n",
    "    filtered_tweet = []\n",
    "    for w in word_tokens:\n",
    "        if w not in stop_words:\n",
    "            filtered_tweet.append(w)\n",
    "    filtered_tweet = ' '.join(filtered_tweet)\n",
    "    tokens[idx] = filtered_tweet\n"
   ]
  },
  {
   "cell_type": "code",
   "execution_count": 8,
   "metadata": {},
   "outputs": [
    {
     "name": "stdout",
     "output_type": "stream",
     "text": [
      "Pretty Equalizer , I still love Samsung Note 3 :\n",
      "iPhone X発売で「強気」のクックCEO、10～12月期は7％超増収へ\n",
      "Sandisk Ultra 64GB # Memory # Card\n",
      "Me voy llevar un iPhone X GRATIS casa # iPhoneXfree ,\n",
      "¿Nos das un RT ?\n",
      "# iphone # ipad # mac 30 nuevos bancos entidades de crédito americanos ya son ... …\n",
      "RT @ MaxFicarro : Easily best feature iPhone X Animoji .\n",
      "\n",
      "Me voy llevar un iPhone X GRATIS casa # iPhoneXfree ,\n"
     ]
    }
   ],
   "source": [
    "for i in xrange(1, 10):\n",
    "    print tokens[i]"
   ]
  },
  {
   "cell_type": "code",
   "execution_count": 9,
   "metadata": {
    "collapsed": true
   },
   "outputs": [],
   "source": [
    "#training bloomfilter on first 2 days data\n",
    "from pybloom import BloomFilter\n",
    "\n",
    "tweet_bloom = BloomFilter(capacity=1000000000, error_rate=0.001)\n",
    "for cleaned_tweet in tokens:\n",
    "     _ = tweet_bloom.add(cleaned_tweet)"
   ]
  },
  {
   "cell_type": "code",
   "execution_count": 16,
   "metadata": {},
   "outputs": [
    {
     "data": {
      "text/plain": [
       "False"
      ]
     },
     "execution_count": 16,
     "metadata": {},
     "output_type": "execute_result"
    }
   ],
   "source": [
    "\"Pretty Equalizer , I still  Samsung Note 3 :\" in tweet_bloom"
   ]
  },
  {
   "cell_type": "markdown",
   "metadata": {},
   "source": [
    "Another Day Data"
   ]
  },
  {
   "cell_type": "code",
   "execution_count": 33,
   "metadata": {
    "collapsed": true
   },
   "outputs": [],
   "source": [
    "import nltk\n",
    "filename=open(\"twython_twits_test.txt\",\"r\")\n",
    "\n",
    "test_tokens = []\n",
    "#decoding and tokenizing\n",
    "for line in filename.readlines():\n",
    "    line=line.decode('utf-8').strip()\n",
    "    test_tokens+=nltk.sent_tokenize(line)"
   ]
  },
  {
   "cell_type": "code",
   "execution_count": 34,
   "metadata": {
    "collapsed": true
   },
   "outputs": [],
   "source": [
    "import re\n",
    "#removing URL's\n",
    "for idx, test_tweet in enumerate(test_tokens):\n",
    "    test_tweet = re.sub(r'https:\\/\\/.*[\\r\\n]*', '', test_tweet)\n",
    "    test_tokens[idx] = test_tweet\n",
    "#print tokens"
   ]
  },
  {
   "cell_type": "code",
   "execution_count": 35,
   "metadata": {},
   "outputs": [
    {
     "data": {
      "text/plain": [
       "127400"
      ]
     },
     "execution_count": 35,
     "metadata": {},
     "output_type": "execute_result"
    }
   ],
   "source": [
    "#number of tweets in test data\n",
    "len(test_tokens)\n",
    "#print tokens[1]"
   ]
  },
  {
   "cell_type": "code",
   "execution_count": 36,
   "metadata": {
    "collapsed": true
   },
   "outputs": [],
   "source": [
    "#removing stop words\n",
    "from nltk.corpus import stopwords\n",
    "from nltk.tokenize import word_tokenize\n",
    "\n",
    "stop_words = set(stopwords.words('english'))\n",
    "\n",
    "example_sent = \"This is a sample sentence, showing off the stop words filtration.\"\n",
    "for idx, cleaned_test_tweet in enumerate(test_tokens):\n",
    "    word_tokens = word_tokenize(cleaned_test_tweet)\n",
    "    filtered_test_tweet = [w for w in word_tokens if not w in stop_words]\n",
    "    filtered_test_tweet = []\n",
    "    for w in word_tokens:\n",
    "        if w not in stop_words:\n",
    "            filtered_test_tweet.append(w)\n",
    "    filtered_test_tweet = ' '.join(filtered_test_tweet)\n",
    "    test_tokens[idx] = filtered_test_tweet\n"
   ]
  },
  {
   "cell_type": "code",
   "execution_count": 38,
   "metadata": {},
   "outputs": [
    {
     "name": "stdout",
     "output_type": "stream",
     "text": [
      "93811 33589\n"
     ]
    }
   ],
   "source": [
    "#Verifying matches and setting flags for matched and unmatched tweets\n",
    "trueflag = 0\n",
    "falseflag = 0\n",
    "for tweet in test_tokens:\n",
    "    if tweet in tweet_bloom:\n",
    "        trueflag = trueflag + 1\n",
    "    else:\n",
    "        falseflag = falseflag + 1\n",
    "    \n",
    "print str(trueflag), str(falseflag)"
   ]
  },
  {
   "cell_type": "code",
   "execution_count": 52,
   "metadata": {},
   "outputs": [
    {
     "data": {
      "image/png": "[encoded data removed]",
      "text/plain": [
       "<matplotlib.figure.Figure at 0x268b6e80>"
      ]
     },
     "metadata": {},
     "output_type": "display_data"
    }
   ],
   "source": [
    "import numpy as np\n",
    "import matplotlib.mlab as mlab\n",
    "import matplotlib.pyplot as plt\n",
    "xparams = [True, False]\n",
    "yparams = [trueflag, falseflag ] \n",
    "x_pos = list(range(len(xparams)))\n",
    "width = 0.8\n",
    "fig, ax = plt.subplots()\n",
    "plt.bar(x_pos, yparams, width, alpha=1, color='g')\n",
    "\n",
    "# Setting axis labels and ticks\n",
    "ax.set_ylabel('Matches')\n",
    "ax.set_title('Twitter matches - Bloom Filter')\n",
    "ax.set_xticks([p + 0.1 * width for p in x_pos])\n",
    "ax.set_xticklabels(xparams)\n",
    "plt.show()"
   ]
  },
  {
   "cell_type": "code",
   "execution_count": null,
   "metadata": {
    "collapsed": true
   },
   "outputs": [],
   "source": []
  }
 ],
 "metadata": {
  "kernelspec": {
   "display_name": "Python 2",
   "language": "python",
   "name": "python2"
  },
  "language_info": {
   "codemirror_mode": {
    "name": "ipython",
    "version": 2
   },
   "file_extension": ".py",
   "mimetype": "text/x-python",
   "name": "python",
   "nbconvert_exporter": "python",
   "pygments_lexer": "ipython2",
   "version": "2.7.13"
  }
 },
 "nbformat": 4,
 "nbformat_minor": 2
}
