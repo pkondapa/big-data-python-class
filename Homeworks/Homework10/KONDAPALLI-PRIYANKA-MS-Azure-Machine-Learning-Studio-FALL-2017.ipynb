{
 "cells": [
  {
   "cell_type": "markdown",
   "metadata": {},
   "source": [
    "## Homework 10\n",
    "\n",
    "Make your own Machine Learning Tutorial ipython notebook page outlining an implementation of Machine Learning.\n",
    "\n",
    "It could investigate setting up  a ML technology stack:\n",
    "\n",
    "1.  Azure  azure.microsoft.com/Services/MachineLearning\n",
    "\n",
    "2. H20 ML  - https://www.h2o.ai/\n",
    "\n",
    "3. Tensor Flow\n",
    "\n",
    "\n",
    "Implementing a demonstration page in Ipython for at Deep Learning Tutorial:\n",
    "\n",
    "1. http://deeplearning.net/tutorial/\n",
    "\n",
    "2. https://www.datacamp.com/community/tutorials/deep-learning-python\n",
    "\n",
    "3. https://pythonspot.com/en/machine-learning/"
   ]
  },
  {
   "cell_type": "markdown",
   "metadata": {},
   "source": [
    "**Microsoft Azure Machine Learning Studio**\n",
    "\n",
    "I have tried to build the decision tree model for my dataset using Microsoft Azure Machine Learning Studio from https://azure.microsoft.com/en-us/services/machine-learning-studio/"
   ]
  },
  {
   "cell_type": "markdown",
   "metadata": {},
   "source": [
    "**Adding a new Experiment**"
   ]
  },
  {
   "cell_type": "markdown",
   "metadata": {},
   "source": [
    "![](steps/2.jpg)"
   ]
  },
  {
   "cell_type": "markdown",
   "metadata": {},
   "source": [
    "Once I start the experiment, there are several drag and drop items for loading dataset, splitting the data, building a model, training the model, and measuring the accuracy. I have loaded the Pima Indians Diabetes dataset using the drag and drop"
   ]
  },
  {
   "cell_type": "markdown",
   "metadata": {},
   "source": [
    "![](steps/loading-data-set.jpg)"
   ]
  },
  {
   "cell_type": "markdown",
   "metadata": {},
   "source": [
    "I have excluded the skin thickness column using the column selector tool"
   ]
  },
  {
   "cell_type": "markdown",
   "metadata": {},
   "source": [
    "![](steps/column-selection.jpg)"
   ]
  },
  {
   "cell_type": "markdown",
   "metadata": {},
   "source": [
    "Then, I have built a decision tree model and split the dataset into 80% training and 20% test data using the split tool"
   ]
  },
  {
   "cell_type": "markdown",
   "metadata": {},
   "source": [
    "![](steps/split-data.jpg)"
   ]
  },
  {
   "cell_type": "markdown",
   "metadata": {},
   "source": [
    "**Decision Tree Model**"
   ]
  },
  {
   "cell_type": "markdown",
   "metadata": {},
   "source": [
    "![](steps/model.jpg)"
   ]
  },
  {
   "cell_type": "markdown",
   "metadata": {},
   "source": [
    "Clicking on Run will run the model in the cloud and we can see the evaluation results by righ clicking on the Evaluate Model --> Vizualize"
   ]
  },
  {
   "cell_type": "markdown",
   "metadata": {},
   "source": [
    "![](steps/model-evaluation-1.jpg)"
   ]
  },
  {
   "cell_type": "markdown",
   "metadata": {},
   "source": [
    "![](steps/model-evaluation.jpg)"
   ]
  },
  {
   "cell_type": "markdown",
   "metadata": {},
   "source": [
    "This provides various details of the model accuracy"
   ]
  },
  {
   "cell_type": "markdown",
   "metadata": {},
   "source": [
    "**Creating a Web Service**"
   ]
  },
  {
   "cell_type": "markdown",
   "metadata": {},
   "source": [
    "\"Setup a Web Service\" option enables us to create a web service which can be used in other applications."
   ]
  },
  {
   "cell_type": "markdown",
   "metadata": {},
   "source": [
    "![](steps/web-service.jpg)"
   ]
  },
  {
   "cell_type": "markdown",
   "metadata": {},
   "source": [
    "In the web service I am removing the Outcome from the columns as the model is already trained on the outcome for various parameter values"
   ]
  },
  {
   "cell_type": "markdown",
   "metadata": {},
   "source": [
    "![](steps/service-columns.jpg)"
   ]
  },
  {
   "cell_type": "markdown",
   "metadata": {},
   "source": [
    "After creating a web service, we deploy the web service for enabling its use in other applications. We can test the web service meaning, providing various other parameters, we can predict the outcome of the person - Diabetic or not."
   ]
  },
  {
   "cell_type": "markdown",
   "metadata": {},
   "source": [
    "![](steps/test-result.jpg)"
   ]
  },
  {
   "cell_type": "markdown",
   "metadata": {},
   "source": [
    "Here, for the values I have entered it predicted the outcome as diabetic with 99.99% probability."
   ]
  },
  {
   "cell_type": "markdown",
   "metadata": {},
   "source": [
    "There are many options in this tool that provides a good visual experience and ease in building machine learning models. It provides an Azure web service API Key for using this service in other applications. \n",
    "\n",
    "My Azure Web Service API Key : JTaX8j7SGvRw517jyn4ZaZY3iO5XvEeD7YafRQYrYeK+wRxu3C+jASPkDGpQ0jHR/wUdZZvG9Gtrwn+Zb8ZCOQ=="
   ]
  },
  {
   "cell_type": "markdown",
   "metadata": {},
   "source": [
    "https://azure.microsoft.com/en-us/services/machine-learning-studio/"
   ]
  }
 ],
 "metadata": {
  "kernelspec": {
   "display_name": "Python 2",
   "language": "python",
   "name": "python2"
  },
  "language_info": {
   "codemirror_mode": {
    "name": "ipython",
    "version": 2
   },
   "file_extension": ".py",
   "mimetype": "text/x-python",
   "name": "python",
   "nbconvert_exporter": "python",
   "pygments_lexer": "ipython2",
   "version": "2.7.13"
  }
 },
 "nbformat": 4,
 "nbformat_minor": 2
}
