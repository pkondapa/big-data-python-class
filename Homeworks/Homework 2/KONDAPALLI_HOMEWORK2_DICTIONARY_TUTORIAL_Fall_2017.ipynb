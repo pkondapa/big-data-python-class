{
 "cells": [
  {
   "cell_type": "markdown",
   "metadata": {
    "collapsed": true
   },
   "source": [
    "Creating Dictionaries"
   ]
  },
  {
   "cell_type": "code",
   "execution_count": 2,
   "metadata": {},
   "outputs": [
    {
     "name": "stdout",
     "output_type": "stream",
     "text": [
      "<type 'dict'>\n",
      "{'Stella': 64, 'Dave': 22, 'Scott': 78, 'Joe': 57, 'Jane': 87, 'Austin': 45}\n"
     ]
    }
   ],
   "source": [
    "classmarks = {\"Austin\" : 45,\n",
    "              \"Stella\" : 64,\n",
    "              \"Joe\" : 57,\n",
    "              \"Dave\" : 22,\n",
    "              \"Jane\" : 87,\n",
    "              \"Scott\" : 78,}\n",
    "print(type(classmarks))\n",
    "print(classmarks)"
   ]
  },
  {
   "cell_type": "markdown",
   "metadata": {},
   "source": [
    "Access modify and delete dictionary items"
   ]
  },
  {
   "cell_type": "code",
   "execution_count": 3,
   "metadata": {},
   "outputs": [
    {
     "name": "stdout",
     "output_type": "stream",
     "text": [
      "Jane scored 87\n"
     ]
    }
   ],
   "source": [
    "print \"Jane scored \" + str(classmarks[\"Jane\"])"
   ]
  },
  {
   "cell_type": "code",
   "execution_count": 4,
   "metadata": {},
   "outputs": [
    {
     "name": "stdout",
     "output_type": "stream",
     "text": [
      "{'Stella': 64, 'Dave': 22, 'Scott': 78, 'Joe': 69, 'Jane': 87, 'Austin': 45}\n"
     ]
    }
   ],
   "source": [
    "classmarks[\"Joe\"] = 69\n",
    "print classmarks"
   ]
  },
  {
   "cell_type": "code",
   "execution_count": 5,
   "metadata": {},
   "outputs": [
    {
     "name": "stdout",
     "output_type": "stream",
     "text": [
      "{'Stella': 64, 'Dave': 22, 'Scott': 78, 'Joe': 69, 'Jane': 87}\n"
     ]
    }
   ],
   "source": [
    "del classmarks[\"Austin\"]\n",
    "print classmarks"
   ]
  },
  {
   "cell_type": "markdown",
   "metadata": {},
   "source": [
    "Merge dictionaries"
   ]
  },
  {
   "cell_type": "code",
   "execution_count": 6,
   "metadata": {},
   "outputs": [
    {
     "name": "stdout",
     "output_type": "stream",
     "text": [
      "{'Jeev': 91, 'Vaas': 75, 'Stella': 64, 'Dave': 22, 'Scott': 78, 'Joe': 69, 'Jane': 87, 'Kate': 39, 'Booth': 87}\n"
     ]
    }
   ],
   "source": [
    "class2marks = {\"Jeev\" : 91,\n",
    "               \"Kate\" : 39,\n",
    "               \"Booth\" : 87,\n",
    "               \"Vaas\" : 75,}\n",
    "classmarks.update(class2marks)\n",
    "print classmarks"
   ]
  },
  {
   "cell_type": "code",
   "execution_count": 7,
   "metadata": {},
   "outputs": [
    {
     "name": "stdout",
     "output_type": "stream",
     "text": [
      "['Jeev', 'Vaas', 'Stella', 'Dave', 'Scott', 'Joe', 'Jane', 'Kate', 'Booth']\n"
     ]
    }
   ],
   "source": [
    "print classmarks.keys()"
   ]
  },
  {
   "cell_type": "code",
   "execution_count": 8,
   "metadata": {},
   "outputs": [
    {
     "name": "stdout",
     "output_type": "stream",
     "text": [
      "87\n",
      "{'Jeev': 96, 'Vaas': 80, 'Stella': 69, 'Dave': 27, 'Scott': 83, 'Joe': 74, 'Jane': 92, 'Kate': 44, 'Booth': 92}\n"
     ]
    }
   ],
   "source": [
    "for name in classmarks.keys():\n",
    "    if name == \"Booth\":\n",
    "        print classmarks[name]\n",
    "    classmarks[name] += 5\n",
    "print classmarks"
   ]
  },
  {
   "cell_type": "code",
   "execution_count": 9,
   "metadata": {},
   "outputs": [
    {
     "name": "stdout",
     "output_type": "stream",
     "text": [
      "{'Jeev': (96, 103, 76), 'Vaas': (80, 87, 60), 'Stella': (69, 76, 49), 'Dave': (27, 34, 7), 'Scott': (83, 90, 63), 'Joe': (74, 81, 54), 'Jane': (92, 99, 72), 'Kate': (44, 51, 24), 'Booth': (92, 99, 72)}\n"
     ]
    }
   ],
   "source": [
    "for name in classmarks.keys():\n",
    "    classmarks[name]=(classmarks[name], classmarks[name]+7, classmarks[name]-20) #iterating over the keys and converting the value into tuple with set of marks\n",
    "print classmarks"
   ]
  },
  {
   "cell_type": "code",
   "execution_count": 13,
   "metadata": {},
   "outputs": [
    {
     "name": "stdout",
     "output_type": "stream",
     "text": [
      "Invalid record entry for Jeevin exam 1 : 103\n",
      "Low score for Stellain exam 2 : 49\n",
      "Low score for Davein exam 0 : 27\n",
      "Low score for Davein exam 1 : 34\n",
      "Low score for Davein exam 2 : 7\n",
      "Low score for Katein exam 0 : 44\n",
      "Low score for Katein exam 2 : 24\n"
     ]
    }
   ],
   "source": [
    "for name in classmarks.keys(): #iterating over keys\n",
    "    for mark in classmarks[name]: #iterating over values\n",
    "        if mark > 100:\n",
    "            print \"Invalid record entry for \" + name + \"in exam \" + str(classmarks[name].index(mark)) + \" : \" + str(mark)\n",
    "        elif mark < 50:\n",
    "            print \"Low score for \" + str(name) + \"in exam \" + str(classmarks[name].index(mark)) + \" : \" + str(mark)"
   ]
  },
  {
   "cell_type": "code",
   "execution_count": 17,
   "metadata": {},
   "outputs": [
    {
     "name": "stdout",
     "output_type": "stream",
     "text": [
      "Average for Jeev is : 91.6666666667\n",
      "Average for Vaas is : 75.6666666667\n",
      "Average for Stella is : 64.6666666667\n",
      "Average for Dave is : 22.6666666667\n",
      "Average for Scott is : 78.6666666667\n",
      "Average for Joe is : 69.6666666667\n",
      "Average for Jane is : 87.6666666667\n",
      "Average for Kate is : 39.6666666667\n",
      "Average for Booth is : 87.6666666667\n"
     ]
    }
   ],
   "source": [
    "for name,marks in classmarks.items(): #iterating the dictionary items\n",
    "    marksum = 0.0\n",
    "    for i in marks:\n",
    "        marksum+=i\n",
    "    print \"Average for \" + name + \" is : \" + str(marksum/len(marks))"
   ]
  }
 ],
 "metadata": {
  "kernelspec": {
   "display_name": "Python 2",
   "language": "python",
   "name": "python2"
  },
  "language_info": {
   "codemirror_mode": {
    "name": "ipython",
    "version": 2
   },
   "file_extension": ".py",
   "mimetype": "text/x-python",
   "name": "python",
   "nbconvert_exporter": "python",
   "pygments_lexer": "ipython2",
   "version": "2.7.13"
  }
 },
 "nbformat": 4,
 "nbformat_minor": 2
}
