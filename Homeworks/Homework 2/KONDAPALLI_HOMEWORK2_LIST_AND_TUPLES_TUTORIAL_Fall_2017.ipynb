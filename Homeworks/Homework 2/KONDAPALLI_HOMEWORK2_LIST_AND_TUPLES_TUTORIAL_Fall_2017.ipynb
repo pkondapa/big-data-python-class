{
 "cells": [
  {
   "cell_type": "markdown",
   "metadata": {
    "collapsed": true
   },
   "source": [
    "Lists in Python is a data type where the items in the list can be of different types. Lists can be modified my updating, adding or removing items from the list meaning that lists are mutable. Tuples in python are similar to lists but unlike lists, tuples cannot be modified. They are immutable. "
   ]
  },
  {
   "cell_type": "markdown",
   "metadata": {},
   "source": [
    "Lists in if "
   ]
  },
  {
   "cell_type": "code",
   "execution_count": 63,
   "metadata": {},
   "outputs": [
    {
     "name": "stdout",
     "output_type": "stream",
     "text": [
      "adding element to make list even length\n",
      "[1, 2, 5, 12, 45, 56, 50, 0]\n"
     ]
    }
   ],
   "source": [
    "numlist=[1,2,5,12,45,56,50]\n",
    "if len(numlist) % 2 == 0:\n",
    "    print \"even number of items\"\n",
    "else:\n",
    "    print \"adding element to make list even length\"\n",
    "    numlist.append(0)\n",
    "print(numlist)"
   ]
  },
  {
   "cell_type": "markdown",
   "metadata": {},
   "source": [
    "Tuples in if"
   ]
  },
  {
   "cell_type": "code",
   "execution_count": 64,
   "metadata": {},
   "outputs": [
    {
     "ename": "AttributeError",
     "evalue": "'tuple' object has no attribute 'add'",
     "output_type": "error",
     "traceback": [
      "\u001b[1;31m---------------------------------------------------------------------------\u001b[0m",
      "\u001b[1;31mAttributeError\u001b[0m                            Traceback (most recent call last)",
      "\u001b[1;32m<ipython-input-64-754e3685383a>\u001b[0m in \u001b[0;36m<module>\u001b[1;34m()\u001b[0m\n\u001b[0;32m      3\u001b[0m     \u001b[1;32mprint\u001b[0m \u001b[1;34m\"list even\"\u001b[0m\u001b[1;33m\u001b[0m\u001b[0m\n\u001b[0;32m      4\u001b[0m \u001b[1;32melse\u001b[0m\u001b[1;33m:\u001b[0m\u001b[1;33m\u001b[0m\u001b[0m\n\u001b[1;32m----> 5\u001b[1;33m     \u001b[0mnums\u001b[0m\u001b[1;33m.\u001b[0m\u001b[0madd\u001b[0m\u001b[1;33m(\u001b[0m\u001b[1;36m0\u001b[0m\u001b[1;33m)\u001b[0m \u001b[1;31m#the tuple cannot be modified\u001b[0m\u001b[1;33m\u001b[0m\u001b[0m\n\u001b[0m\u001b[0;32m      6\u001b[0m \u001b[1;32mprint\u001b[0m\u001b[1;33m(\u001b[0m\u001b[0mnums\u001b[0m\u001b[1;33m)\u001b[0m\u001b[1;33m\u001b[0m\u001b[0m\n",
      "\u001b[1;31mAttributeError\u001b[0m: 'tuple' object has no attribute 'add'"
     ]
    }
   ],
   "source": [
    "nums = (1,2,5,2,45)\n",
    "if len(nums) % 2 == 0:\n",
    "    print \"list even\"\n",
    "else:\n",
    "    nums.add(0) #the tuple cannot be modified\n",
    "print(nums)"
   ]
  },
  {
   "cell_type": "markdown",
   "metadata": {},
   "source": [
    "Lists in for loops"
   ]
  },
  {
   "cell_type": "code",
   "execution_count": 65,
   "metadata": {},
   "outputs": [
    {
     "name": "stdout",
     "output_type": "stream",
     "text": [
      "['Honda', 'Toyota', 'Nissan', 'Jaguar', 'Audi', 'BMW', 'Kia', 'Subaru', 'Kia']\n",
      "Updated car list: ['Honda', 'Toyota', 'Nissan', 'Jaguar', 'Audi', 'BMW', 'Subaru']\n",
      "Making all the elements even in the list : [2, 2, 6, 12, 46, 56, 50, 0]\n"
     ]
    }
   ],
   "source": [
    "carlist = ['Honda','Toyota','Nissan','Jaguar','Audi','BMW','Kia','Subaru','Kia']\n",
    "print(carlist)\n",
    "for car in carlist:\n",
    "    if car == 'Kia':\n",
    "        carlist.remove(car)\n",
    "print \"Updated car list: \" + str(carlist)\n",
    "for num in numlist:\n",
    "    if num % 2 != 0:\n",
    "        numlist[numlist.index(num)] = num + 1\n",
    "print \"Making all the elements even in the list : \" + str(numlist)"
   ]
  },
  {
   "cell_type": "markdown",
   "metadata": {},
   "source": [
    "Tuples in for loops"
   ]
  },
  {
   "cell_type": "code",
   "execution_count": 66,
   "metadata": {},
   "outputs": [
    {
     "ename": "TypeError",
     "evalue": "'tuple' object does not support item assignment",
     "output_type": "error",
     "traceback": [
      "\u001b[1;31m---------------------------------------------------------------------------\u001b[0m",
      "\u001b[1;31mTypeError\u001b[0m                                 Traceback (most recent call last)",
      "\u001b[1;32m<ipython-input-66-bcffe3d2bad5>\u001b[0m in \u001b[0;36m<module>\u001b[1;34m()\u001b[0m\n\u001b[0;32m      2\u001b[0m \u001b[1;32mfor\u001b[0m \u001b[0mcar\u001b[0m \u001b[1;32min\u001b[0m \u001b[0mcartuple\u001b[0m\u001b[1;33m:\u001b[0m\u001b[1;33m\u001b[0m\u001b[0m\n\u001b[0;32m      3\u001b[0m     \u001b[1;32mif\u001b[0m \u001b[0mcar\u001b[0m \u001b[1;33m==\u001b[0m \u001b[1;34m'Kia'\u001b[0m\u001b[1;33m:\u001b[0m\u001b[1;33m\u001b[0m\u001b[0m\n\u001b[1;32m----> 4\u001b[1;33m         \u001b[0mcartuple\u001b[0m\u001b[1;33m[\u001b[0m\u001b[0mcartuple\u001b[0m\u001b[1;33m.\u001b[0m\u001b[0mindex\u001b[0m\u001b[1;33m(\u001b[0m\u001b[0mcar\u001b[0m\u001b[1;33m)\u001b[0m\u001b[1;33m]\u001b[0m \u001b[1;33m=\u001b[0m \u001b[1;34m'New Kia'\u001b[0m\u001b[1;33m\u001b[0m\u001b[0m\n\u001b[0m\u001b[0;32m      5\u001b[0m \u001b[1;32mprint\u001b[0m \u001b[1;34m\"updated car tuple : \"\u001b[0m \u001b[1;33m+\u001b[0m \u001b[0mstr\u001b[0m\u001b[1;33m(\u001b[0m\u001b[0mcartuple\u001b[0m\u001b[1;33m)\u001b[0m\u001b[1;33m\u001b[0m\u001b[0m\n",
      "\u001b[1;31mTypeError\u001b[0m: 'tuple' object does not support item assignment"
     ]
    }
   ],
   "source": [
    "cartuple = ('Honda','Toyota','Nissan','Jaguar','Audi','BMW','Kia','Subaru','Kia')\n",
    "for car in cartuple:\n",
    "    if car == 'Kia':\n",
    "        cartuple[cartuple.index(car)] = 'New Kia'\n",
    "print \"updated car tuple : \" + str(cartuple)"
   ]
  },
  {
   "cell_type": "markdown",
   "metadata": {},
   "source": [
    "Lists and tuples in lambda"
   ]
  },
  {
   "cell_type": "code",
   "execution_count": 67,
   "metadata": {},
   "outputs": [
    {
     "name": "stdout",
     "output_type": "stream",
     "text": [
      "Squares of numlist : [4, 4, 36, 144, 2116, 3136, 2500, 0]\n",
      "5 multiple of numlist : [10, 10, 30, 60, 230, 280, 250, 0]\n",
      "5 multiple of numtuple : [5, 10, 25, 10, 225]\n",
      "(6, 5)\n"
     ]
    }
   ],
   "source": [
    "mul = []\n",
    "fun = lambda num: num*num\n",
    "for n in numlist:\n",
    "    mul.append(fun(n))\n",
    "y = map(lambda x : x * 5, numlist)\n",
    "z = map(lambda a : a * 5, nums) # performing operation on tuples and storing result in lists\n",
    "print \"Squares of numlist : \" + str(mul)\n",
    "print \"5 multiple of numlist : \" + str(y)\n",
    "print \"5 multiple of numtuple : \" + str(z)\n",
    "coordinate = (5,6)\n",
    "x, y = coordinate\n",
    "res = lambda xy : (y, x) # interchanging coordinate values\n",
    "print res(coordinate)"
   ]
  }
 ],
 "metadata": {
  "kernelspec": {
   "display_name": "Python 2",
   "language": "python",
   "name": "python2"
  },
  "language_info": {
   "codemirror_mode": {
    "name": "ipython",
    "version": 2
   },
   "file_extension": ".py",
   "mimetype": "text/x-python",
   "name": "python",
   "nbconvert_exporter": "python",
   "pygments_lexer": "ipython2",
   "version": "2.7.13"
  }
 },
 "nbformat": 4,
 "nbformat_minor": 2
}
