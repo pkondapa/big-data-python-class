{
 "cells": [
  {
   "cell_type": "markdown",
   "metadata": {
    "collapsed": true
   },
   "source": [
    "Creating Dictionaries"
   ]
  },
  {
   "cell_type": "code",
   "execution_count": 26,
   "metadata": {},
   "outputs": [
    {
     "name": "stdout",
     "output_type": "stream",
     "text": [
      "<type 'dict'>\n",
      "{'Stella': 64, 'Dave': 22, 'Scott': 78, 'Joe': 57, 'Jane': 87, 'Austin': 45}\n"
     ]
    }
   ],
   "source": [
    "classmarks = {\"Austin\" : 45,\n",
    "              \"Stella\" : 64,\n",
    "              \"Joe\" : 57,\n",
    "              \"Dave\" : 22,\n",
    "              \"Jane\" : 87,\n",
    "              \"Scott\" : 78,}\n",
    "print(type(classmarks))\n",
    "print(classmarks)"
   ]
  },
  {
   "cell_type": "markdown",
   "metadata": {},
   "source": [
    "Access modify and delete dictionary items"
   ]
  },
  {
   "cell_type": "code",
   "execution_count": 27,
   "metadata": {},
   "outputs": [
    {
     "name": "stdout",
     "output_type": "stream",
     "text": [
      "Jane scored 87\n"
     ]
    }
   ],
   "source": [
    "print \"Jane scored \" + str(classmarks[\"Jane\"])"
   ]
  },
  {
   "cell_type": "code",
   "execution_count": 28,
   "metadata": {},
   "outputs": [
    {
     "name": "stdout",
     "output_type": "stream",
     "text": [
      "{'Stella': 64, 'Dave': 22, 'Scott': 78, 'Joe': 69, 'Jane': 87, 'Austin': 45}\n"
     ]
    }
   ],
   "source": [
    "classmarks[\"Joe\"] = 69\n",
    "print classmarks"
   ]
  },
  {
   "cell_type": "code",
   "execution_count": 29,
   "metadata": {},
   "outputs": [
    {
     "name": "stdout",
     "output_type": "stream",
     "text": [
      "{'Stella': 64, 'Dave': 22, 'Scott': 78, 'Joe': 69, 'Jane': 87}\n"
     ]
    }
   ],
   "source": [
    "del classmarks[\"Austin\"]\n",
    "print classmarks"
   ]
  },
  {
   "cell_type": "markdown",
   "metadata": {},
   "source": [
    "Merge dictionaries"
   ]
  },
  {
   "cell_type": "code",
   "execution_count": 30,
   "metadata": {},
   "outputs": [
    {
     "name": "stdout",
     "output_type": "stream",
     "text": [
      "{'Jeev': 91, 'Vaas': 75, 'Stella': 64, 'Dave': 22, 'Scott': 78, 'Joe': 69, 'Jane': 87, 'Kate': 39, 'Booth': 87}\n"
     ]
    }
   ],
   "source": [
    "class2marks = {\"Jeev\" : 91,\n",
    "               \"Kate\" : 39,\n",
    "               \"Booth\" : 87,\n",
    "               \"Vaas\" : 75,}\n",
    "classmarks.update(class2marks)\n",
    "print classmarks"
   ]
  },
  {
   "cell_type": "code",
   "execution_count": 31,
   "metadata": {},
   "outputs": [
    {
     "name": "stdout",
     "output_type": "stream",
     "text": [
      "['Jeev', 'Vaas', 'Stella', 'Dave', 'Scott', 'Joe', 'Jane', 'Kate', 'Booth']\n"
     ]
    }
   ],
   "source": [
    "print classmarks.keys()"
   ]
  },
  {
   "cell_type": "code",
   "execution_count": 34,
   "metadata": {},
   "outputs": [
    {
     "name": "stdout",
     "output_type": "stream",
     "text": [
      "97\n",
      "{'Jeev': 96, 'Vaas': 80, 'Stella': 69, 'Dave': 27, 'Scott': 83, 'Joe': 74, 'Jane': 92, 'Kate': 44, 'Booth': 102}\n"
     ]
    }
   ],
   "source": [
    "for name in classmarks.keys():\n",
    "    if name == \"Booth\":\n",
    "        print classmarks[name]\n",
    "    classmarks[name] += 5\n",
    "print classmarks"
   ]
  },
  {
   "cell_type": "code",
   "execution_count": null,
   "metadata": {
    "collapsed": true
   },
   "outputs": [],
   "source": []
  }
 ],
 "metadata": {
  "kernelspec": {
   "display_name": "Python 2",
   "language": "python",
   "name": "python2"
  },
  "language_info": {
   "codemirror_mode": {
    "name": "ipython",
    "version": 2
   },
   "file_extension": ".py",
   "mimetype": "text/x-python",
   "name": "python",
   "nbconvert_exporter": "python",
   "pygments_lexer": "ipython2",
   "version": "2.7.13"
  }
 },
 "nbformat": 4,
 "nbformat_minor": 2
}
