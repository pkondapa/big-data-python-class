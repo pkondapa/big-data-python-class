{
 "cells": [
  {
   "cell_type": "markdown",
   "metadata": {
    "collapsed": true
   },
   "source": [
    "# Diabetes Prediction - Big Data Analytics using Python"
   ]
  },
  {
   "cell_type": "markdown",
   "metadata": {},
   "source": [
    "## 1. Abstract\n",
    "***\n",
    "Diabetes has become the third leading cause of death in the United States. Statistics state that 25% of people who have Diabetes are not aware of it.Statistics have also shown that there is a steady drop in the number of new diabetes cases since 2009 by implementing Big Data techniques.Using the analytics, we can identify the people who are at risk of developing Diabetes in the near future and provide necessary preventive care.Using predictive models in diabetes prediction helps people with diabetes live healthier lives. In Predictive models, we extract information from the existing data sets available and determine the patterns to predict future outcomes and trends Here we use Python to build a predictive model that would predict the outcome of a patient to be diabetic or not based on several parameters."
   ]
  },
  {
   "cell_type": "markdown",
   "metadata": {},
   "source": [
    "## 2. Data\n",
    "***\n",
    "### Source\n",
    "\n",
    "We will be using the Pima Indian Diabetic dataset from UCI repository https://archive.ics.uci.edu/ml/datasets/pima+indians+diabetes\n",
    "\n",
    "### About DataSet\n",
    "\n",
    "#### DataSet Information\n",
    "\n",
    "This dataset is originally from the National Institute of Diabetes and Digestive and Kidney Diseases. Several constraints were placed on the selection of these instances from a larger database. In particular, all patients here are females at least 21 years old of Pima Indian heritage.\n",
    "\n",
    "#### Attributes:\n",
    "\n",
    "**Pregnancies**: Number of times pregnant<br/>\n",
    "**Glucose**: Plasma glucose concentration a 2 hours in an oral glucose tolerance test<br/>\n",
    "**BloodPressure**: Diastolic blood pressure (mm Hg)<br/>\n",
    "**SkinThickness**: Triceps skin fold thickness (mm)<br/>\n",
    "**Insulin**: 2-Hour serum insulin (mu U/ml)<br/>\n",
    "**BMI**: Body mass index (weight in kg/(height in m)^2)<br/>\n",
    "**DiabetesPedigreeFunction**: Diabetes pedigree function<br/>\n",
    "**Age**: Age (years)<br/>\n",
    "**Outcome**: Class variable (0 or 1)<br/>"
   ]
  },
  {
   "cell_type": "markdown",
   "metadata": {},
   "source": [
    "### 2.1 Importing the dataset into a dataframe and displaying the content"
   ]
  },
  {
   "cell_type": "code",
   "execution_count": 1,
   "metadata": {
    "collapsed": true
   },
   "outputs": [],
   "source": [
    "import pandas as pd\n",
    "\n",
    "diabetes = pd.read_csv('diabetes.csv')"
   ]
  },
  {
   "cell_type": "code",
   "execution_count": 2,
   "metadata": {},
   "outputs": [
    {
     "data": {
      "text/html": [
       "<div>\n",
       "<style>\n",
       "    .dataframe thead tr:only-child th {\n",
       "        text-align: right;\n",
       "    }\n",
       "\n",
       "    .dataframe thead th {\n",
       "        text-align: left;\n",
       "    }\n",
       "\n",
       "    .dataframe tbody tr th {\n",
       "        vertical-align: top;\n",
       "    }\n",
       "</style>\n",
       "<table border=\"1\" class=\"dataframe\">\n",
       "  <thead>\n",
       "    <tr style=\"text-align: right;\">\n",
       "      <th></th>\n",
       "      <th>Pregnancies</th>\n",
       "      <th>Glucose</th>\n",
       "      <th>BloodPressure</th>\n",
       "      <th>SkinThickness</th>\n",
       "      <th>Insulin</th>\n",
       "      <th>BMI</th>\n",
       "      <th>DiabetesPedigreeFunction</th>\n",
       "      <th>Age</th>\n",
       "      <th>Outcome</th>\n",
       "    </tr>\n",
       "  </thead>\n",
       "  <tbody>\n",
       "    <tr>\n",
       "      <th>0</th>\n",
       "      <td>6</td>\n",
       "      <td>148</td>\n",
       "      <td>72</td>\n",
       "      <td>35</td>\n",
       "      <td>0</td>\n",
       "      <td>33.6</td>\n",
       "      <td>0.627</td>\n",
       "      <td>50</td>\n",
       "      <td>1</td>\n",
       "    </tr>\n",
       "    <tr>\n",
       "      <th>1</th>\n",
       "      <td>1</td>\n",
       "      <td>85</td>\n",
       "      <td>66</td>\n",
       "      <td>29</td>\n",
       "      <td>0</td>\n",
       "      <td>26.6</td>\n",
       "      <td>0.351</td>\n",
       "      <td>31</td>\n",
       "      <td>0</td>\n",
       "    </tr>\n",
       "    <tr>\n",
       "      <th>2</th>\n",
       "      <td>8</td>\n",
       "      <td>183</td>\n",
       "      <td>64</td>\n",
       "      <td>0</td>\n",
       "      <td>0</td>\n",
       "      <td>23.3</td>\n",
       "      <td>0.672</td>\n",
       "      <td>32</td>\n",
       "      <td>1</td>\n",
       "    </tr>\n",
       "    <tr>\n",
       "      <th>3</th>\n",
       "      <td>1</td>\n",
       "      <td>89</td>\n",
       "      <td>66</td>\n",
       "      <td>23</td>\n",
       "      <td>94</td>\n",
       "      <td>28.1</td>\n",
       "      <td>0.167</td>\n",
       "      <td>21</td>\n",
       "      <td>0</td>\n",
       "    </tr>\n",
       "    <tr>\n",
       "      <th>4</th>\n",
       "      <td>0</td>\n",
       "      <td>137</td>\n",
       "      <td>40</td>\n",
       "      <td>35</td>\n",
       "      <td>168</td>\n",
       "      <td>43.1</td>\n",
       "      <td>2.288</td>\n",
       "      <td>33</td>\n",
       "      <td>1</td>\n",
       "    </tr>\n",
       "  </tbody>\n",
       "</table>\n",
       "</div>"
      ],
      "text/plain": [
       "   Pregnancies  Glucose  BloodPressure  SkinThickness  Insulin   BMI  \\\n",
       "0            6      148             72             35        0  33.6   \n",
       "1            1       85             66             29        0  26.6   \n",
       "2            8      183             64              0        0  23.3   \n",
       "3            1       89             66             23       94  28.1   \n",
       "4            0      137             40             35      168  43.1   \n",
       "\n",
       "   DiabetesPedigreeFunction  Age  Outcome  \n",
       "0                     0.627   50        1  \n",
       "1                     0.351   31        0  \n",
       "2                     0.672   32        1  \n",
       "3                     0.167   21        0  \n",
       "4                     2.288   33        1  "
      ]
     },
     "execution_count": 2,
     "metadata": {},
     "output_type": "execute_result"
    }
   ],
   "source": [
    "diabetes.head()"
   ]
  },
  {
   "cell_type": "code",
   "execution_count": 3,
   "metadata": {},
   "outputs": [
    {
     "data": {
      "text/html": [
       "<div>\n",
       "<style>\n",
       "    .dataframe thead tr:only-child th {\n",
       "        text-align: right;\n",
       "    }\n",
       "\n",
       "    .dataframe thead th {\n",
       "        text-align: left;\n",
       "    }\n",
       "\n",
       "    .dataframe tbody tr th {\n",
       "        vertical-align: top;\n",
       "    }\n",
       "</style>\n",
       "<table border=\"1\" class=\"dataframe\">\n",
       "  <thead>\n",
       "    <tr style=\"text-align: right;\">\n",
       "      <th></th>\n",
       "      <th>Pregnancies</th>\n",
       "      <th>Glucose</th>\n",
       "      <th>BloodPressure</th>\n",
       "      <th>SkinThickness</th>\n",
       "      <th>Insulin</th>\n",
       "      <th>BMI</th>\n",
       "      <th>DiabetesPedigreeFunction</th>\n",
       "      <th>Age</th>\n",
       "      <th>Outcome</th>\n",
       "    </tr>\n",
       "  </thead>\n",
       "  <tbody>\n",
       "    <tr>\n",
       "      <th>count</th>\n",
       "      <td>768.000000</td>\n",
       "      <td>768.000000</td>\n",
       "      <td>768.000000</td>\n",
       "      <td>768.000000</td>\n",
       "      <td>768.000000</td>\n",
       "      <td>768.000000</td>\n",
       "      <td>768.000000</td>\n",
       "      <td>768.000000</td>\n",
       "      <td>768.000000</td>\n",
       "    </tr>\n",
       "    <tr>\n",
       "      <th>mean</th>\n",
       "      <td>3.845052</td>\n",
       "      <td>120.894531</td>\n",
       "      <td>69.105469</td>\n",
       "      <td>20.536458</td>\n",
       "      <td>79.799479</td>\n",
       "      <td>31.992578</td>\n",
       "      <td>0.471876</td>\n",
       "      <td>33.240885</td>\n",
       "      <td>0.348958</td>\n",
       "    </tr>\n",
       "    <tr>\n",
       "      <th>std</th>\n",
       "      <td>3.369578</td>\n",
       "      <td>31.972618</td>\n",
       "      <td>19.355807</td>\n",
       "      <td>15.952218</td>\n",
       "      <td>115.244002</td>\n",
       "      <td>7.884160</td>\n",
       "      <td>0.331329</td>\n",
       "      <td>11.760232</td>\n",
       "      <td>0.476951</td>\n",
       "    </tr>\n",
       "    <tr>\n",
       "      <th>min</th>\n",
       "      <td>0.000000</td>\n",
       "      <td>0.000000</td>\n",
       "      <td>0.000000</td>\n",
       "      <td>0.000000</td>\n",
       "      <td>0.000000</td>\n",
       "      <td>0.000000</td>\n",
       "      <td>0.078000</td>\n",
       "      <td>21.000000</td>\n",
       "      <td>0.000000</td>\n",
       "    </tr>\n",
       "    <tr>\n",
       "      <th>25%</th>\n",
       "      <td>1.000000</td>\n",
       "      <td>99.000000</td>\n",
       "      <td>62.000000</td>\n",
       "      <td>0.000000</td>\n",
       "      <td>0.000000</td>\n",
       "      <td>27.300000</td>\n",
       "      <td>0.243750</td>\n",
       "      <td>24.000000</td>\n",
       "      <td>0.000000</td>\n",
       "    </tr>\n",
       "    <tr>\n",
       "      <th>50%</th>\n",
       "      <td>3.000000</td>\n",
       "      <td>117.000000</td>\n",
       "      <td>72.000000</td>\n",
       "      <td>23.000000</td>\n",
       "      <td>30.500000</td>\n",
       "      <td>32.000000</td>\n",
       "      <td>0.372500</td>\n",
       "      <td>29.000000</td>\n",
       "      <td>0.000000</td>\n",
       "    </tr>\n",
       "    <tr>\n",
       "      <th>75%</th>\n",
       "      <td>6.000000</td>\n",
       "      <td>140.250000</td>\n",
       "      <td>80.000000</td>\n",
       "      <td>32.000000</td>\n",
       "      <td>127.250000</td>\n",
       "      <td>36.600000</td>\n",
       "      <td>0.626250</td>\n",
       "      <td>41.000000</td>\n",
       "      <td>1.000000</td>\n",
       "    </tr>\n",
       "    <tr>\n",
       "      <th>max</th>\n",
       "      <td>17.000000</td>\n",
       "      <td>199.000000</td>\n",
       "      <td>122.000000</td>\n",
       "      <td>99.000000</td>\n",
       "      <td>846.000000</td>\n",
       "      <td>67.100000</td>\n",
       "      <td>2.420000</td>\n",
       "      <td>81.000000</td>\n",
       "      <td>1.000000</td>\n",
       "    </tr>\n",
       "  </tbody>\n",
       "</table>\n",
       "</div>"
      ],
      "text/plain": [
       "       Pregnancies     Glucose  BloodPressure  SkinThickness     Insulin  \\\n",
       "count   768.000000  768.000000     768.000000     768.000000  768.000000   \n",
       "mean      3.845052  120.894531      69.105469      20.536458   79.799479   \n",
       "std       3.369578   31.972618      19.355807      15.952218  115.244002   \n",
       "min       0.000000    0.000000       0.000000       0.000000    0.000000   \n",
       "25%       1.000000   99.000000      62.000000       0.000000    0.000000   \n",
       "50%       3.000000  117.000000      72.000000      23.000000   30.500000   \n",
       "75%       6.000000  140.250000      80.000000      32.000000  127.250000   \n",
       "max      17.000000  199.000000     122.000000      99.000000  846.000000   \n",
       "\n",
       "              BMI  DiabetesPedigreeFunction         Age     Outcome  \n",
       "count  768.000000                768.000000  768.000000  768.000000  \n",
       "mean    31.992578                  0.471876   33.240885    0.348958  \n",
       "std      7.884160                  0.331329   11.760232    0.476951  \n",
       "min      0.000000                  0.078000   21.000000    0.000000  \n",
       "25%     27.300000                  0.243750   24.000000    0.000000  \n",
       "50%     32.000000                  0.372500   29.000000    0.000000  \n",
       "75%     36.600000                  0.626250   41.000000    1.000000  \n",
       "max     67.100000                  2.420000   81.000000    1.000000  "
      ]
     },
     "execution_count": 3,
     "metadata": {},
     "output_type": "execute_result"
    }
   ],
   "source": [
    "diabetes.describe()"
   ]
  },
  {
   "cell_type": "code",
   "execution_count": 4,
   "metadata": {},
   "outputs": [
    {
     "data": {
      "text/plain": [
       "Outcome\n",
       "0    500\n",
       "1    268\n",
       "dtype: int64"
      ]
     },
     "execution_count": 4,
     "metadata": {},
     "output_type": "execute_result"
    }
   ],
   "source": [
    "diabetes.groupby(\"Outcome\").size()"
   ]
  },
  {
   "cell_type": "markdown",
   "metadata": {},
   "source": [
    "This shows that there are 500 samples in the dataset with the outcome 'Not diabetic' and 268 samples with the outcome 'Diabetic'"
   ]
  },
  {
   "cell_type": "markdown",
   "metadata": {},
   "source": [
    "### 2.2 Visualizing the data"
   ]
  },
  {
   "cell_type": "code",
   "execution_count": 5,
   "metadata": {},
   "outputs": [
    {
     "data": {
      "text/plain": [
       "array([[<matplotlib.axes._subplots.AxesSubplot object at 0x000000000E3F6978>,\n",
       "        <matplotlib.axes._subplots.AxesSubplot object at 0x000000000E4E17F0>,\n",
       "        <matplotlib.axes._subplots.AxesSubplot object at 0x000000000E51C0F0>],\n",
       "       [<matplotlib.axes._subplots.AxesSubplot object at 0x000000000E65E630>,\n",
       "        <matplotlib.axes._subplots.AxesSubplot object at 0x000000000E76A160>,\n",
       "        <matplotlib.axes._subplots.AxesSubplot object at 0x000000000E80FF98>],\n",
       "       [<matplotlib.axes._subplots.AxesSubplot object at 0x000000000E8F3AC8>,\n",
       "        <matplotlib.axes._subplots.AxesSubplot object at 0x000000000E9ED358>,\n",
       "        <matplotlib.axes._subplots.AxesSubplot object at 0x000000000EAB3F98>]], dtype=object)"
      ]
     },
     "execution_count": 5,
     "metadata": {},
     "output_type": "execute_result"
    },
    {
     "data": {
      "image/png": "[encoded data removed]",
      "text/plain": [
       "<matplotlib.figure.Figure at 0xe3f6240>"
      ]
     },
     "metadata": {},
     "output_type": "display_data"
    }
   ],
   "source": [
    "import matplotlib.pyplot as plt\n",
    "import seaborn as sns\n",
    "%matplotlib inline\n",
    "diabetes.hist(figsize=(10,8))"
   ]
  },
  {
   "cell_type": "markdown",
   "metadata": {},
   "source": [
    "Now we will plot a correlation plot to look at the correlation among the various parameters"
   ]
  },
  {
   "cell_type": "code",
   "execution_count": 6,
   "metadata": {},
   "outputs": [
    {
     "data": {
      "text/plain": [
       "<matplotlib.axes._subplots.AxesSubplot at 0xf496ac8>"
      ]
     },
     "execution_count": 6,
     "metadata": {},
     "output_type": "execute_result"
    },
    {
     "data": {
      "image/png": "[encoded data removed]",
      "text/plain": [
       "<matplotlib.figure.Figure at 0xfb904a8>"
      ]
     },
     "metadata": {},
     "output_type": "display_data"
    }
   ],
   "source": [
    "corr = diabetes[diabetes.columns].corr()\n",
    "sns.heatmap(corr, annot = True)"
   ]
  },
  {
   "cell_type": "markdown",
   "metadata": {},
   "source": [
    "### 2.3 Data setup for building model - Splitting the columns into features and outcome"
   ]
  },
  {
   "cell_type": "markdown",
   "metadata": {},
   "source": [
    "We are replacing the 0 values in all the columns to the mean to better train the model"
   ]
  },
  {
   "cell_type": "code",
   "execution_count": 8,
   "metadata": {},
   "outputs": [],
   "source": [
    "import numpy as np\n",
    "zeros_attr =list(diabetes.columns[1:6])      # list all column names. \n",
    "diabetes[zeros_attr] = diabetes[zeros_attr].replace(0, np.NaN)\n",
    "diabetes.fillna(diabetes.mean(), inplace=True) \n",
    "diabetes.dropna(inplace=True)"
   ]
  },
  {
   "cell_type": "markdown",
   "metadata": {},
   "source": [
    "Also, from the above correlation plot we have seen that the SkinThickness has the least correlation with the class outcome and so we will not be considering this column for building our model. Setting up the data removing the SkinThickness column"
   ]
  },
  {
   "cell_type": "code",
   "execution_count": 9,
   "metadata": {
    "collapsed": true
   },
   "outputs": [],
   "source": [
    "features = diabetes.keys().values\n",
    "array = diabetes.values\n",
    "data = array[:,[0,1,2,4,5,6,7]]\n",
    "target = array[:,8].astype(int)"
   ]
  },
  {
   "cell_type": "markdown",
   "metadata": {},
   "source": [
    "## 3. Algorithm \n",
    "\n",
    "We will be using Decision Tree Algorithm from the scikit library to build the model. This application would typically belong to the Healthcare domain.\n",
    "\n",
    "Decision Tree is a supervised learning technique for classification. We create a model that predicts the value of a target variable by learning simple decision rules inferred from the features of the data. For implementing this algorithm we split the dataset into training and test data and then measure the performance of the model. This algorithm helps in training a predictive model and predicting the outcome of a given parameter set.\n",
    "\n",
    "We will be visualizing the generated decision tree by applying some constraints on the tree such as max_depth.\n",
    "These results help infer decision on whether or not a person is diabetic or tend to be diabetic based on the past data."
   ]
  },
  {
   "cell_type": "markdown",
   "metadata": {},
   "source": [
    "### 3.1 Implementing Decision Tree using Scikit-learn"
   ]
  },
  {
   "cell_type": "code",
   "execution_count": 10,
   "metadata": {
    "collapsed": true
   },
   "outputs": [],
   "source": [
    "from sklearn.tree import DecisionTreeClassifier\n",
    "from sklearn.model_selection import train_test_split"
   ]
  },
  {
   "cell_type": "code",
   "execution_count": 11,
   "metadata": {},
   "outputs": [
    {
     "data": {
      "text/plain": [
       "DecisionTreeClassifier(class_weight=None, criterion='gini', max_depth=None,\n",
       "            max_features=None, max_leaf_nodes=None,\n",
       "            min_impurity_split=1e-07, min_samples_leaf=1,\n",
       "            min_samples_split=2, min_weight_fraction_leaf=0.0,\n",
       "            presort=False, random_state=None, splitter='best')"
      ]
     },
     "execution_count": 11,
     "metadata": {},
     "output_type": "execute_result"
    }
   ],
   "source": [
    "X_train, X_test, Y_train, Y_test = train_test_split(data, target, stratify=target, test_size=0.20, random_state=100)\n",
    "initial_tree = DecisionTreeClassifier()\n",
    "initial_tree.fit(X_train, Y_train)"
   ]
  },
  {
   "cell_type": "markdown",
   "metadata": {},
   "source": [
    "#### Calculating metrics for the model"
   ]
  },
  {
   "cell_type": "code",
   "execution_count": 12,
   "metadata": {},
   "outputs": [
    {
     "name": "stdout",
     "output_type": "stream",
     "text": [
      "Accuracy on Training data is  100.0 %\n",
      "Accuracy on Test data is  71.4285714286 %\n"
     ]
    }
   ],
   "source": [
    "initial_tree_accuracy_training = (initial_tree.score(X_train, Y_train)*100)\n",
    "initial_tree_accuracy_test = (initial_tree.score(X_test, Y_test)*100)\n",
    "print 'Accuracy on Training data is ',initial_tree_accuracy_training,'%'\n",
    "print 'Accuracy on Test data is ', initial_tree_accuracy_test,'%'"
   ]
  },
  {
   "cell_type": "markdown",
   "metadata": {},
   "source": [
    "Here we are getting an accuracy of 100% on the training dataset because there are no restrictions applied and went all the way down to the branching until it perfectly fit all the data. This is causing the model overfitting."
   ]
  },
  {
   "cell_type": "code",
   "execution_count": 13,
   "metadata": {
    "collapsed": true
   },
   "outputs": [],
   "source": [
    "y_predict = initial_tree.predict(X_test)"
   ]
  },
  {
   "cell_type": "code",
   "execution_count": 14,
   "metadata": {},
   "outputs": [
    {
     "data": {
      "text/plain": [
       "array([[76, 24],\n",
       "       [20, 34]])"
      ]
     },
     "execution_count": 14,
     "metadata": {},
     "output_type": "execute_result"
    }
   ],
   "source": [
    "from sklearn.metrics import confusion_matrix\n",
    "confusion_mtrx = confusion_matrix(Y_test,y_predict)\n",
    "confusion_mtrx"
   ]
  },
  {
   "cell_type": "markdown",
   "metadata": {},
   "source": [
    "A confusion matrix is a table that is often used to describe the performance of a classification model on a set of test data for which the true values are known.\n",
    "\n",
    "Since we have two prediction classes we have a 2x2 matrix. <br/>\n",
    "From the above confusion matrix we can infer the below:<br/>\n",
    "In 34 cases the classifier predicted correctly that a person has diabetes - **True Positive**<br/>\n",
    "In 76 cases the classifier correctly predicted that a person does not have diabetes - **True Negative**<br/>\n",
    "In 24 cases the classifier incorrectly predicted that a person has diabetes - **False Positive**<br/>\n",
    "In 20 cases the classifier incorrectly predicted that a person does not have diabetes - **False Negative**"
   ]
  },
  {
   "cell_type": "code",
   "execution_count": 15,
   "metadata": {},
   "outputs": [
    {
     "data": {
      "text/plain": [
       "<matplotlib.axes._subplots.AxesSubplot at 0x10849550>"
      ]
     },
     "execution_count": 15,
     "metadata": {},
     "output_type": "execute_result"
    },
    {
     "data": {
      "image/png": "[encoded data removed]",
      "text/plain": [
       "<matplotlib.figure.Figure at 0x108490b8>"
      ]
     },
     "metadata": {},
     "output_type": "display_data"
    }
   ],
   "source": [
    "label = [\"Not diabetic\",\"Diabetic\"]\n",
    "sns.heatmap(confusion_mtrx, annot=True, xticklabels=label, yticklabels=label)"
   ]
  },
  {
   "cell_type": "markdown",
   "metadata": {},
   "source": [
    "**Calculating sensitivity:**<br/>\n",
    "When the actual value is positive, how often is the prediction correct? This is known as sensitivity of the model. It is also known as True Positive rate or Recall"
   ]
  },
  {
   "cell_type": "code",
   "execution_count": 16,
   "metadata": {},
   "outputs": [
    {
     "name": "stdout",
     "output_type": "stream",
     "text": [
      "Sensitivity of the initial tree is  62.962962963 %\n"
     ]
    }
   ],
   "source": [
    "from sklearn import metrics\n",
    "initial_tree_sensitivity = (metrics.recall_score(Y_test,y_predict)*100)\n",
    "print 'Sensitivity of the initial tree is ', initial_tree_sensitivity, '%'"
   ]
  },
  {
   "cell_type": "markdown",
   "metadata": {},
   "source": [
    "**Precision:**<br/>\n",
    "When a positive value is predicted, how often is the prediction correct? This is known as precision of the model. We are measuring how precise is the model in predicting positive instances"
   ]
  },
  {
   "cell_type": "code",
   "execution_count": 17,
   "metadata": {},
   "outputs": [
    {
     "name": "stdout",
     "output_type": "stream",
     "text": [
      "Precision of the initial tree is  58.6206896552 %\n"
     ]
    }
   ],
   "source": [
    "initial_tree_precision = (metrics.precision_score(Y_test,y_predict)*100)\n",
    "print 'Precision of the initial tree is ',initial_tree_precision,'%'"
   ]
  },
  {
   "cell_type": "markdown",
   "metadata": {},
   "source": [
    "**In our scenario, False positives are more acceptable over False negatives becasue we do not prefer a person with diabetes to be predicted as not diabetic but it is somewhat acceptable when a person with no diabetes is predicted to be diabetic. Hence we are mainly focusing on the sensitivity and Precision measures**"
   ]
  },
  {
   "cell_type": "markdown",
   "metadata": {},
   "source": [
    "#### Building a Decision Tree using graphviz"
   ]
  },
  {
   "cell_type": "code",
   "execution_count": 19,
   "metadata": {},
   "outputs": [],
   "source": [
    "import graphviz\n",
    "from sklearn.tree import export_graphviz\n",
    "\n",
    "export_graphviz(initial_tree, out_file='visualization/initial_tree.dot', class_names=['diabetic','not diabetic'], feature_names=features[:-1],\n",
    "               impurity=False, filled=True)"
   ]
  },
  {
   "cell_type": "code",
   "execution_count": 20,
   "metadata": {},
   "outputs": [
    {
     "data": {
      "text/plain": [
       "True"
      ]
     },
     "execution_count": 20,
     "metadata": {},
     "output_type": "execute_result"
    }
   ],
   "source": [
    "import pydot\n",
    "\n",
    "(graph,) = pydot.graph_from_dot_file('visualization/initial_tree.dot')\n",
    "graph.write_png('visualization/initial_tree.png')"
   ]
  },
  {
   "cell_type": "markdown",
   "metadata": {},
   "source": [
    "![](visualization/initial_tree.png)"
   ]
  },
  {
   "cell_type": "markdown",
   "metadata": {},
   "source": [
    "**Plotting the importance of features in classification**"
   ]
  },
  {
   "cell_type": "code",
   "execution_count": 22,
   "metadata": {},
   "outputs": [
    {
     "data": {
      "image/png": "[encoded data removed]",
      "text/plain": [
       "<matplotlib.figure.Figure at 0x163d0fd0>"
      ]
     },
     "metadata": {},
     "output_type": "display_data"
    }
   ],
   "source": [
    "nfeatures = data.shape[1]\n",
    "plt.barh(range(nfeatures),initial_tree.feature_importances_)\n",
    "plt.yticks(np.arange(nfeatures),features[[0,1,2,4,5,6,7]])\n",
    "plt.xlabel('Importance')\n",
    "plt.ylabel('Feature')\n",
    "plt.show()"
   ]
  },
  {
   "cell_type": "markdown",
   "metadata": {},
   "source": [
    "### 3.2 Improving the model performance"
   ]
  },
  {
   "cell_type": "markdown",
   "metadata": {},
   "source": [
    "**Dealing with overfitting**\n",
    "\n",
    "**1. Pre-pruning:** Stop growing the tree earlier, before it perfectly classifies the training set.<br/>\n",
    "**2. Post-pruning:** Allows the tree to perfectly classify the training set, and then post prune the tree.<br/>\n",
    "\n",
    "We are trying to improve the performance of the model by applying few techniques and in each we will evaluate the overall score of the model, the sensitivity and the precision. Here we are starting with the Pre-pruning, followed by the Post-pruning and then will finally evaluate the metrics by changing the threshold. "
   ]
  },
  {
   "cell_type": "markdown",
   "metadata": {},
   "source": [
    "### 3.2.1 Pre-pruning"
   ]
  },
  {
   "cell_type": "markdown",
   "metadata": {},
   "source": [
    "Here we are applying some pre-pruning techniques to deal with the overfitting. Pre-pruning is stopping the tree from growing after a certain point. We are restricting the maximum depth of the tree to 5 and min_samples_leaf=5 restricts the minimum number of samples required to be at a leaf node to 5 and we are restricting minimum number of leaf nodes required to split a particular node to be 2.\n",
    "\n",
    "Decision Tree grows from the top choosing a variable at each step that best splits the set of items. We are using the Information Gain metric to choose the variable that best splits the set of items. Information gain is calculated at each step and is used to decide which feature to split on at each step in building the tree"
   ]
  },
  {
   "cell_type": "code",
   "execution_count": 23,
   "metadata": {},
   "outputs": [
    {
     "name": "stdout",
     "output_type": "stream",
     "text": [
      "Accuracy on Training data is  82.2475570033 %\n",
      "Accuracy on Test data is  78.5714285714 %\n"
     ]
    }
   ],
   "source": [
    "pre_pruned_tree = DecisionTreeClassifier(criterion='entropy',max_depth=5, min_samples_leaf=5,min_samples_split=2, \n",
    "            presort=False, random_state=0)\n",
    "pre_pruned_tree.fit(X_train, Y_train)\n",
    "pre_pruned_accuracy_train = (pre_pruned_tree.score(X_train, Y_train)*100)\n",
    "pre_pruned_accuracy_test = (pre_pruned_tree.score(X_test, Y_test)*100)\n",
    "print 'Accuracy on Training data is ',pre_pruned_accuracy_train,'%'\n",
    "print 'Accuracy on Test data is ', pre_pruned_accuracy_test,'%'"
   ]
  },
  {
   "cell_type": "code",
   "execution_count": 24,
   "metadata": {},
   "outputs": [
    {
     "data": {
      "text/plain": [
       "<matplotlib.axes._subplots.AxesSubplot at 0x165be3c8>"
      ]
     },
     "execution_count": 24,
     "metadata": {},
     "output_type": "execute_result"
    },
    {
     "data": {
      "image/png": "[encoded data removed]",
      "text/plain": [
       "<matplotlib.figure.Figure at 0x163ded30>"
      ]
     },
     "metadata": {},
     "output_type": "display_data"
    }
   ],
   "source": [
    "y_predict_pre_pruned = pre_pruned_tree.predict(X_test)\n",
    "from sklearn.metrics import confusion_matrix\n",
    "confusion_mtrx_pre_pruned = confusion_matrix(Y_test,y_predict_pre_pruned)\n",
    "#confusion_mtrx\n",
    "label = [\"Not diabetic\",\"Diabetic\"]\n",
    "sns.heatmap(confusion_mtrx_pre_pruned, annot=True, xticklabels=label, yticklabels=label)\n"
   ]
  },
  {
   "cell_type": "code",
   "execution_count": 25,
   "metadata": {},
   "outputs": [
    {
     "name": "stdout",
     "output_type": "stream",
     "text": [
      "Sensitivity of pre-pruned tree is  59.2592592593 %\n",
      "Precision of pre-pruned tree is  74.4186046512 %\n"
     ]
    }
   ],
   "source": [
    "pre_pruned_sensitivity = metrics.recall_score(Y_test,y_predict_pre_pruned)*100\n",
    "pre_pruned_precision = metrics.precision_score(Y_test,y_predict_pre_pruned)*100\n",
    "print 'Sensitivity of pre-pruned tree is ', pre_pruned_sensitivity,'%'\n",
    "print 'Precision of pre-pruned tree is ', pre_pruned_precision,'%'"
   ]
  },
  {
   "cell_type": "code",
   "execution_count": 26,
   "metadata": {
    "collapsed": true
   },
   "outputs": [],
   "source": [
    "export_graphviz(pre_pruned_tree, out_file='visualization/pre_pruned_tree.dot', class_names=['diabetic','not diabetic'], feature_names=features[:-1],\n",
    "               impurity=False, filled=True)"
   ]
  },
  {
   "cell_type": "code",
   "execution_count": 27,
   "metadata": {},
   "outputs": [
    {
     "data": {
      "text/plain": [
       "True"
      ]
     },
     "execution_count": 27,
     "metadata": {},
     "output_type": "execute_result"
    }
   ],
   "source": [
    "(graph,) = pydot.graph_from_dot_file('visualization/pre_pruned_tree.dot')\n",
    "graph.write_png('visualization/pre_pruned_tree.png')"
   ]
  },
  {
   "cell_type": "markdown",
   "metadata": {},
   "source": [
    "![](visualization/pre_pruned_tree.png)"
   ]
  },
  {
   "cell_type": "markdown",
   "metadata": {},
   "source": [
    "### 3.2.2 Post-pruning\n",
    "\n",
    "As a second method, we are trying to improve the accuracy by applying the Post-pruning to the tree.<br/>\n",
    "We allow the tree to grow fully and follow the below steps:<br/>\n",
    "-  Eliminate the test at a node N, both of whose children are leaves.\n",
    "-  Compare the performance of the original tree and the pruned tree on the test set.\n",
    "-  If difference is small, accept the pruning and repeat.\n",
    "-  If the difference is large, restore the children and look for other places to prune."
   ]
  },
  {
   "cell_type": "code",
   "execution_count": 28,
   "metadata": {},
   "outputs": [
    {
     "data": {
      "text/plain": [
       "DecisionTreeClassifier(class_weight=None, criterion='gini', max_depth=None,\n",
       "            max_features=None, max_leaf_nodes=None,\n",
       "            min_impurity_split=1e-07, min_samples_leaf=1,\n",
       "            min_samples_split=2, min_weight_fraction_leaf=0.0,\n",
       "            presort=False, random_state=None, splitter='best')"
      ]
     },
     "execution_count": 28,
     "metadata": {},
     "output_type": "execute_result"
    }
   ],
   "source": [
    "tree = DecisionTreeClassifier()\n",
    "tree.fit(X_train, Y_train)"
   ]
  },
  {
   "cell_type": "code",
   "execution_count": 29,
   "metadata": {
    "collapsed": true
   },
   "outputs": [],
   "source": [
    "# The decision estimator has an attribute called tree_  which stores the entire\n",
    "# tree structure and allows access to low level attributes. The binary tree\n",
    "# tree_ is represented as a number of parallel arrays. The i-th element of each\n",
    "# array holds information about the node `i`. Node 0 is the tree's root. NOTE:\n",
    "# Some of the arrays only apply to either leaves or split nodes, resp. In this\n",
    "# case the values of nodes of the other type are arbitrary!\n",
    "#\n",
    "# Among those arrays, we have:\n",
    "#   - left_child, id of the left child of the node\n",
    "#   - right_child, id of the right child of the node\n",
    "#   - feature, feature used for splitting the node\n",
    "#   - threshold, threshold value at the node\n",
    "#\n",
    "\n",
    "# Using those arrays, we can parse the tree structure:\n",
    "\n",
    "n_nodes = tree.tree_.node_count\n",
    "children_left = tree.tree_.children_left\n",
    "children_right = tree.tree_.children_right\n",
    "feature = tree.tree_.feature\n",
    "threshold = tree.tree_.threshold\n",
    "samples = tree.tree_.n_node_samples\n",
    "#print n_nodes\n",
    "node_depth = np.zeros(shape=n_nodes, dtype=np.int64)\n",
    "is_leaves = np.zeros(shape=n_nodes, dtype=bool)\n",
    "stack = [(0, -1)]  # seed is the root node id and its parent depth\n",
    "while len(stack) > 0:\n",
    "    node_id, parent_depth = stack.pop()\n",
    "    node_depth[node_id] = parent_depth + 1\n",
    "\n",
    "    # If we have a test node\n",
    "    if (children_left[node_id] != children_right[node_id]):\n",
    "        stack.append((children_left[node_id], parent_depth + 1))\n",
    "        stack.append((children_right[node_id], parent_depth + 1))\n",
    "    else:\n",
    "        is_leaves[node_id] = True\n",
    "\n",
    "\n",
    "        \n",
    "for i in range(n_nodes):\n",
    "    score_current = tree.score(X_test, Y_test)\n",
    "    #print score_current\n",
    "    left = children_left[i]\n",
    "    right = children_right[i]\n",
    "    if(left!=-1 & right!=-1):\n",
    "        if(children_left[left]==-1 & children_right[left]==-1 & children_left[right]==-1 & children_right[right]==-1):\n",
    "            tree.tree_.children_left[i]=-1\n",
    "            tree.tree_.children_right[i]=-1\n",
    "            score_new = tree.score(X_test, Y_test)\n",
    "            if(score_new<score_current):\n",
    "                tree.tree_.children_left[i]=left\n",
    "                tree.tree_.children_right[i]=right"
   ]
  },
  {
   "cell_type": "code",
   "execution_count": 30,
   "metadata": {},
   "outputs": [
    {
     "name": "stdout",
     "output_type": "stream",
     "text": [
      "Accuracy on training data is  94.6254071661 %\n",
      "Accuracy on testing data is  74.025974026 %\n"
     ]
    }
   ],
   "source": [
    "post_pruned_accuracy_training = (tree.score(X_train,Y_train)*100)\n",
    "post_pruned_accuracy_test = (tree.score(X_test,Y_test)*100)\n",
    "print 'Accuracy on training data is ',post_pruned_accuracy_training ,'%'\n",
    "print 'Accuracy on testing data is ', post_pruned_accuracy_test,'%'"
   ]
  },
  {
   "cell_type": "code",
   "execution_count": 31,
   "metadata": {},
   "outputs": [
    {
     "data": {
      "text/plain": [
       "<matplotlib.axes._subplots.AxesSubplot at 0x133e6630>"
      ]
     },
     "execution_count": 31,
     "metadata": {},
     "output_type": "execute_result"
    },
    {
     "data": {
      "image/png": "[encoded data removed]",
      "text/plain": [
       "<matplotlib.figure.Figure at 0x133e6198>"
      ]
     },
     "metadata": {},
     "output_type": "display_data"
    }
   ],
   "source": [
    "y_predict_post_pruned = tree.predict(X_test)\n",
    "from sklearn.metrics import confusion_matrix\n",
    "confusion_mtrx_post_pruned = confusion_matrix(Y_test,y_predict_post_pruned)\n",
    "#confusion_mtrx\n",
    "label = [\"Not diabetic\",\"Diabetic\"]\n",
    "sns.heatmap(confusion_mtrx_post_pruned, annot=True, xticklabels=label, yticklabels=label)"
   ]
  },
  {
   "cell_type": "code",
   "execution_count": 32,
   "metadata": {},
   "outputs": [
    {
     "name": "stdout",
     "output_type": "stream",
     "text": [
      "Sensitivity of post-pruned tree:  64.8148148148\n",
      "Precision of post-pruned tree:  62.5\n"
     ]
    }
   ],
   "source": [
    "post_pruned_sensitivity = metrics.recall_score(Y_test,y_predict_post_pruned)*100\n",
    "post_pruned_precision = metrics.precision_score(Y_test,y_predict_post_pruned)*100\n",
    "print 'Sensitivity of post-pruned tree: ', post_pruned_sensitivity\n",
    "print 'Precision of post-pruned tree: ', post_pruned_precision"
   ]
  },
  {
   "cell_type": "code",
   "execution_count": 33,
   "metadata": {},
   "outputs": [
    {
     "data": {
      "text/plain": [
       "True"
      ]
     },
     "execution_count": 33,
     "metadata": {},
     "output_type": "execute_result"
    }
   ],
   "source": [
    "\n",
    "export_graphviz(tree, out_file='visualization/post_prune_tree.dot', class_names=['diabetic','not diabetic'], feature_names=features[:-1],\n",
    "               impurity=False, filled=True)\n",
    "\n",
    "(graph,) = pydot.graph_from_dot_file('visualization/post_prune_tree.dot')\n",
    "graph.write_png('visualization/post_prune_tree.png')"
   ]
  },
  {
   "cell_type": "markdown",
   "metadata": {},
   "source": [
    "![](visualization/post_prune_tree.png)"
   ]
  },
  {
   "cell_type": "markdown",
   "metadata": {},
   "source": [
    "### 3.2.3 Modifying Threshold"
   ]
  },
  {
   "cell_type": "code",
   "execution_count": 34,
   "metadata": {},
   "outputs": [
    {
     "data": {
      "image/png": "[encoded data removed]",
      "text/plain": [
       "<matplotlib.figure.Figure at 0x13396da0>"
      ]
     },
     "metadata": {},
     "output_type": "display_data"
    }
   ],
   "source": [
    "plt.figure(figsize=(15,5))\n",
    "plt.subplot(1, 3, 1)\n",
    "plt.hist(initial_tree.predict_proba(X_test)[:,1], bins=8)\n",
    "plt.title('Probability distribution of the initial tree')\n",
    "plt.xlabel('Predicted probability of diabetes')\n",
    "plt.ylabel('Frequency')\n",
    "\n",
    "plt.subplot(1, 3, 2)\n",
    "plt.hist(pre_pruned_tree.predict_proba(X_test)[:,1], bins=8)\n",
    "plt.title('Probability distribution of the pre-pruned tree')\n",
    "plt.xlabel('Predicted probability of diabetes')\n",
    "plt.ylabel('Frequency')\n",
    "\n",
    "plt.subplot(1, 3, 3)\n",
    "plt.hist(tree.predict_proba(X_test)[:,1], bins=8)\n",
    "plt.title('Probability distribution of the post-pruned tree')\n",
    "plt.xlabel('Predicted probability of diabetes')\n",
    "plt.ylabel('Frequency')\n",
    "\n",
    "plt.show()"
   ]
  },
  {
   "cell_type": "code",
   "execution_count": 35,
   "metadata": {
    "collapsed": true
   },
   "outputs": [],
   "source": [
    "#Storing the predicted probabilities for class 1\n",
    "y_predict_probability = pre_pruned_tree.predict_proba(X_test)[:,1]"
   ]
  },
  {
   "cell_type": "code",
   "execution_count": 36,
   "metadata": {},
   "outputs": [
    {
     "name": "stderr",
     "output_type": "stream",
     "text": [
      "C:\\Users\\SreePriya\\Anaconda2\\lib\\site-packages\\sklearn\\utils\\validation.py:395: DeprecationWarning: Passing 1d arrays as data is deprecated in 0.17 and will raise ValueError in 0.19. Reshape your data either using X.reshape(-1, 1) if your data has a single feature or X.reshape(1, -1) if it contains a single sample.\n",
      "  DeprecationWarning)\n"
     ]
    }
   ],
   "source": [
    "from sklearn.preprocessing import binarize\n",
    "y_predict_new = binarize(y_predict_probability,0.3)[0]"
   ]
  },
  {
   "cell_type": "code",
   "execution_count": 37,
   "metadata": {},
   "outputs": [
    {
     "data": {
      "text/plain": [
       "array([[64, 36],\n",
       "       [ 7, 47]])"
      ]
     },
     "execution_count": 37,
     "metadata": {},
     "output_type": "execute_result"
    }
   ],
   "source": [
    "confusion_mtrx_new = confusion_matrix(Y_test,y_predict_new)\n",
    "confusion_mtrx_new"
   ]
  },
  {
   "cell_type": "code",
   "execution_count": 38,
   "metadata": {},
   "outputs": [
    {
     "data": {
      "text/plain": [
       "<matplotlib.axes._subplots.AxesSubplot at 0x13384128>"
      ]
     },
     "execution_count": 38,
     "metadata": {},
     "output_type": "execute_result"
    },
    {
     "data": {
      "image/png": "[encoded data removed]",
      "text/plain": [
       "<matplotlib.figure.Figure at 0x12a23f98>"
      ]
     },
     "metadata": {},
     "output_type": "display_data"
    }
   ],
   "source": [
    "label = [\"Not diabetic\",\"Diabetic\"]\n",
    "sns.heatmap(confusion_mtrx_new, annot=True, xticklabels=label, yticklabels=label)"
   ]
  },
  {
   "cell_type": "code",
   "execution_count": 39,
   "metadata": {},
   "outputs": [
    {
     "name": "stdout",
     "output_type": "stream",
     "text": [
      "Sensitivity after threshold change is  87.037037037 %\n",
      "Precision after threshold change is  56.6265060241 %\n"
     ]
    }
   ],
   "source": [
    "threshold_change_sensitivity = metrics.recall_score(Y_test,y_predict_new)*100\n",
    "threshold_change_precision = metrics.precision_score(Y_test,y_predict_new)*100\n",
    "print 'Sensitivity after threshold change is ', threshold_change_sensitivity,'%'\n",
    "print 'Precision after threshold change is ', threshold_change_precision,'%'"
   ]
  },
  {
   "cell_type": "markdown",
   "metadata": {},
   "source": [
    "## 4. Comparing Results"
   ]
  },
  {
   "cell_type": "code",
   "execution_count": 40,
   "metadata": {},
   "outputs": [
    {
     "data": {
      "image/png": "[encoded data removed]",
      "text/plain": [
       "<matplotlib.figure.Figure at 0x11262ba8>"
      ]
     },
     "metadata": {},
     "output_type": "display_data"
    }
   ],
   "source": [
    "x = np.array([0,1,2,3])\n",
    "xarray = ['Initial','Pre-pruned','Post-pruned','Threshold-change']\n",
    "y_sensitivity = [initial_tree_sensitivity, pre_pruned_sensitivity, post_pruned_sensitivity,threshold_change_sensitivity ]\n",
    "y_precision = [initial_tree_precision, pre_pruned_precision, post_pruned_precision, threshold_change_precision]\n",
    "plt.xticks(x, xarray)\n",
    "plt.plot(x, y_sensitivity, label=\"Sensitivity\")\n",
    "plt.plot(x, y_precision, label =\"Precision\")\n",
    "plt.legend(bbox_to_anchor=(1.05, 1), loc=2, borderaxespad=0.)\n",
    "plt.show()"
   ]
  },
  {
   "cell_type": "code",
   "execution_count": 41,
   "metadata": {},
   "outputs": [
    {
     "data": {
      "image/png": "[encoded data removed]",
      "text/plain": [
       "<matplotlib.figure.Figure at 0x11526390>"
      ]
     },
     "metadata": {},
     "output_type": "display_data"
    }
   ],
   "source": [
    "x = np.array([0,1,2])\n",
    "xarray = ['Initial','Pre-pruned','Post-pruned']\n",
    "y_training_accuracy = [initial_tree_accuracy_training, pre_pruned_accuracy_train, post_pruned_accuracy_training]\n",
    "y_test_accuracy = [initial_tree_accuracy_test, pre_pruned_accuracy_test, post_pruned_accuracy_test]\n",
    "plt.xticks(x, xarray)\n",
    "plt.plot(x, y_training_accuracy, label=\"Accuracy on Training Data\")\n",
    "plt.plot(x, y_test_accuracy, label =\"Accuracy on Test Data\")\n",
    "plt.legend(bbox_to_anchor=(1.05, 1), loc=2, borderaxespad=0.)\n",
    "plt.show()"
   ]
  },
  {
   "cell_type": "markdown",
   "metadata": {},
   "source": [
    "### Key Observations\n",
    "\n",
    "-  We have a close sensitivity and precision in the post-pruning method\n",
    "-  The best sensitivity was attained when we applied a threshold change to the pre-pruned tree\n",
    "-  The accuracy on training and test data were obtained when we applied pre-pruning \n",
    "-  Although there has been a small improvement even in the post-pruning case\n",
    "-  Simpler decision tree was obtained using the Pre-pruning technique"
   ]
  },
  {
   "cell_type": "markdown",
   "metadata": {},
   "source": [
    "## References\n",
    "\n",
    "http://scikit-learn.org/stable/auto_examples/tree/plot_unveil_tree_structure.html <br/>\n",
    "http://scikit-learn.org/stable/modules/tree.html <br/>\n",
    "https://www.kdnuggets.com/2017/05/simplifying-decision-tree-interpretation-decision-rules-python.html <br/>\n",
    "http://www.bogotobogo.com/python/scikit-learn/scikt_machine_learning_Decision_Tree_Learning_Informatioin_Gain_IG_Impurity_Entropy_Gini_Classification_Error.php <br/>\n",
    "https://becominghuman.ai/implementing-decision-trees-using-scikit-learn-5057b27221ec <br/>\n",
    "http://blog.kaggle.com/2015/10/23/scikit-learn-video-9-better-evaluation-of-classification-models/ <br/>\n",
    "http://www.dataschool.io/simple-guide-to-confusion-matrix-terminology/<br/>\n",
    "https://medium.com/ibm-data-science-experience/markdown-for-jupyter-notebooks-cheatsheet-386c05aeebed <br/>\n",
    "https://www.kaggle.com/uciml/pima-indians-diabetes-database/data <br/>\n"
   ]
  }
 ],
 "metadata": {
  "kernelspec": {
   "display_name": "Python 2",
   "language": "python",
   "name": "python2"
  },
  "language_info": {
   "codemirror_mode": {
    "name": "ipython",
    "version": 2
   },
   "file_extension": ".py",
   "mimetype": "text/x-python",
   "name": "python",
   "nbconvert_exporter": "python",
   "pygments_lexer": "ipython2",
   "version": "2.7.13"
  }
 },
 "nbformat": 4,
 "nbformat_minor": 2
}
